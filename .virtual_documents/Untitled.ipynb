# Check individual package versions
import tensorflow as tf
import flask
import cv2
import numpy as np
import PIL

print("TensorFlow version:", tf.__version__)
print("Flask version:", flask.__version__)
print("OpenCV version:", cv2.__version__)
print("NumPy version:", np.__version__)
print("Pillow version:", PIL.__version__)




